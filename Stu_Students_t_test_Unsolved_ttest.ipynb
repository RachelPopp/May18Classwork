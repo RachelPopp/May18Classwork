{
 "cells": [
  {
   "cell_type": "code",
   "execution_count": 1,
   "metadata": {},
   "outputs": [],
   "source": [
    "# Dependencies\n",
    "import matplotlib.pyplot as plt\n",
    "import numpy as np\n",
    "import pandas as pd\n",
    "from scipy import stats\n",
    "import stats as st\n",
    "from scipy.stats import sem, ttest_ind"
   ]
  },
  {
   "cell_type": "code",
   "execution_count": 2,
   "metadata": {},
   "outputs": [
    {
     "name": "stdout",
     "output_type": "stream",
     "text": [
      "72.32\n",
      "64.68416666666667\n"
     ]
    }
   ],
   "source": [
    "# Read in data\n",
    "general_heights = pd.read_csv(\"general_heights.csv\", header=None)\n",
    "cba_data = pd.read_csv(\"wba_data.csv\", header=None)\n",
    "cba_data\n",
    "\n",
    "hold = cba_data\n",
    "hold.drop(hold.head(1).index, inplace=True)\n",
    "hold\n",
    "cba_mean = st.mean(pd.to_numeric(hold[3]))\n",
    "cba_sem = sem(pd.to_numeric(hold[3]))\n",
    "\n",
    "\n",
    "hold2 = general_heights\n",
    "hold2.drop(hold2.head(1).index, inplace=True)\n",
    "general_heights_mean = st.mean(pd.to_numeric(hold2[0]))\n",
    "general_heights_sem = sem(pd.to_numeric(hold2[0]))\n",
    "\n",
    "\n",
    "print(cba_mean)\n",
    "print(general_heights_mean)"
   ]
  },
  {
   "cell_type": "code",
   "execution_count": 3,
   "metadata": {},
   "outputs": [],
   "source": [
    "# Run the t/-test\n",
    "heights1 = pd.to_numeric(hold[3])\n",
    "heights2 = pd.to_numeric(hold2[0])\n",
    "(t_stat, p) = ttest_ind(heights1, heights2, equal_var=False)\n"
   ]
  },
  {
   "cell_type": "code",
   "execution_count": 4,
   "metadata": {},
   "outputs": [
    {
     "name": "stdout",
     "output_type": "stream",
     "text": [
      "The differences between the heights are significant.\n"
     ]
    }
   ],
   "source": [
    "# Report the data\n",
    "if p < 0.05:\n",
    "    print(\"The differences between the heights are significant.\")\n",
    "else:\n",
    "    print(\"The differences between heights are due to chance.\")"
   ]
  },
  {
   "cell_type": "code",
   "execution_count": 5,
   "metadata": {},
   "outputs": [
    {
     "data": {
      "image/png": "[encoded data removed]",
      "text/plain": [
       "<Figure size 432x288 with 1 Axes>"
      ]
     },
     "metadata": {
      "needs_background": "light"
     },
     "output_type": "display_data"
    }
   ],
   "source": [
    "# Plot sample means with error bars\n",
    "means = [cba_mean, general_heights_mean]\n",
    "sems = [cba_sem, general_heights_sem]\n",
    "labels = [\"cba means\", \"general heights means\"]\n",
    "\n",
    "fig, ax = plt.subplots()\n",
    "\n",
    "ax.errorbar(np.arange(0, len(means)), means, yerr=sems, fmt=\"o\")\n",
    "\n",
    "ax.set_xlim(-0.5, 2.5)\n",
    "ax.set_xticklabels(labels)\n",
    "ax.set_xticks([0, 1, 2])\n",
    "\n",
    "ax.set_ylabel(\"Mean House Price\")\n",
    "\n",
    "plt.show()"
   ]
  },
  {
   "cell_type": "code",
   "execution_count": 6,
   "metadata": {},
   "outputs": [],
   "source": [
    "# Plot mean height of players"
   ]
  },
  {
   "cell_type": "code",
   "execution_count": null,
   "metadata": {},
   "outputs": [],
   "source": []
  }
 ],
 "metadata": {
  "kernelspec": {
   "display_name": "Python 3",
   "language": "python",
   "name": "python3"
  },
  "language_info": {
   "codemirror_mode": {
    "name": "ipython",
    "version": 3
   },
   "file_extension": ".py",
   "mimetype": "text/x-python",
   "name": "python",
   "nbconvert_exporter": "python",
   "pygments_lexer": "ipython3",
   "version": "3.7.1"
  }
 },
 "nbformat": 4,
 "nbformat_minor": 2
}
